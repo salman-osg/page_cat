{
 "cells": [
  {
   "cell_type": "code",
   "execution_count": 3,
   "metadata": {},
   "outputs": [],
   "source": [
    "import pandas as pd\n",
    "import requests\n",
    "import numpy as np\n",
    "import requests\n",
    "from bs4 import BeautifulSoup\n",
    "import re\n",
    "\n"
   ]
  },
  {
   "cell_type": "code",
   "execution_count": 2,
   "metadata": {},
   "outputs": [
    {
     "name": "stdout",
     "output_type": "stream",
     "text": [
      "[1, 3, 4, 5]\n"
     ]
    }
   ],
   "source": [
    "num_list = [1,2,3,4,5]\n",
    "num_list.remove(2)\n",
    "print(num_list)"
   ]
  },
  {
   "cell_type": "code",
   "execution_count": 24,
   "metadata": {},
   "outputs": [],
   "source": [
    "sal_data = pd.read_csv('sal_urls.csv')\n",
    "sal_data.columns = ['index', 'url']"
   ]
  },
  {
   "cell_type": "code",
   "execution_count": 25,
   "metadata": {},
   "outputs": [
    {
     "data": {
      "text/html": [
       "<div>\n",
       "<style scoped>\n",
       "    .dataframe tbody tr th:only-of-type {\n",
       "        vertical-align: middle;\n",
       "    }\n",
       "\n",
       "    .dataframe tbody tr th {\n",
       "        vertical-align: top;\n",
       "    }\n",
       "\n",
       "    .dataframe thead th {\n",
       "        text-align: right;\n",
       "    }\n",
       "</style>\n",
       "<table border=\"1\" class=\"dataframe\">\n",
       "  <thead>\n",
       "    <tr style=\"text-align: right;\">\n",
       "      <th></th>\n",
       "      <th>index</th>\n",
       "      <th>url</th>\n",
       "    </tr>\n",
       "  </thead>\n",
       "  <tbody>\n",
       "    <tr>\n",
       "      <th>0</th>\n",
       "      <td>10871</td>\n",
       "      <td>https://www.google.com/aclk?adurl=&amp;ai=DChcSEwj...</td>\n",
       "    </tr>\n",
       "    <tr>\n",
       "      <th>1</th>\n",
       "      <td>10872</td>\n",
       "      <td>https://www.google.com/shopping/product/166466...</td>\n",
       "    </tr>\n",
       "    <tr>\n",
       "      <th>2</th>\n",
       "      <td>10873</td>\n",
       "      <td>https://www.google.com/shopping/product/777811...</td>\n",
       "    </tr>\n",
       "    <tr>\n",
       "      <th>3</th>\n",
       "      <td>10874</td>\n",
       "      <td>https://www.google.com/aclk?adurl=&amp;ai=DChcSEwi...</td>\n",
       "    </tr>\n",
       "    <tr>\n",
       "      <th>4</th>\n",
       "      <td>10875</td>\n",
       "      <td>https://www.google.com/shopping/product/777811...</td>\n",
       "    </tr>\n",
       "    <tr>\n",
       "      <th>...</th>\n",
       "      <td>...</td>\n",
       "      <td>...</td>\n",
       "    </tr>\n",
       "    <tr>\n",
       "      <th>10866</th>\n",
       "      <td>21737</td>\n",
       "      <td>NaN</td>\n",
       "    </tr>\n",
       "    <tr>\n",
       "      <th>10867</th>\n",
       "      <td>21738</td>\n",
       "      <td>NaN</td>\n",
       "    </tr>\n",
       "    <tr>\n",
       "      <th>10868</th>\n",
       "      <td>21739</td>\n",
       "      <td>NaN</td>\n",
       "    </tr>\n",
       "    <tr>\n",
       "      <th>10869</th>\n",
       "      <td>21740</td>\n",
       "      <td>NaN</td>\n",
       "    </tr>\n",
       "    <tr>\n",
       "      <th>10870</th>\n",
       "      <td>21741</td>\n",
       "      <td>NaN</td>\n",
       "    </tr>\n",
       "  </tbody>\n",
       "</table>\n",
       "<p>10871 rows × 2 columns</p>\n",
       "</div>"
      ],
      "text/plain": [
       "       index                                                url\n",
       "0      10871  https://www.google.com/aclk?adurl=&ai=DChcSEwj...\n",
       "1      10872  https://www.google.com/shopping/product/166466...\n",
       "2      10873  https://www.google.com/shopping/product/777811...\n",
       "3      10874  https://www.google.com/aclk?adurl=&ai=DChcSEwi...\n",
       "4      10875  https://www.google.com/shopping/product/777811...\n",
       "...      ...                                                ...\n",
       "10866  21737                                                NaN\n",
       "10867  21738                                                NaN\n",
       "10868  21739                                                NaN\n",
       "10869  21740                                                NaN\n",
       "10870  21741                                                NaN\n",
       "\n",
       "[10871 rows x 2 columns]"
      ]
     },
     "execution_count": 25,
     "metadata": {},
     "output_type": "execute_result"
    }
   ],
   "source": [
    "sal_data "
   ]
  },
  {
   "cell_type": "code",
   "execution_count": 26,
   "metadata": {},
   "outputs": [
    {
     "name": "stdout",
     "output_type": "stream",
     "text": [
      "<class 'pandas.core.frame.DataFrame'>\n",
      "RangeIndex: 10871 entries, 0 to 10870\n",
      "Data columns (total 2 columns):\n",
      " #   Column  Non-Null Count  Dtype \n",
      "---  ------  --------------  ----- \n",
      " 0   index   10871 non-null  int64 \n",
      " 1   url     9133 non-null   object\n",
      "dtypes: int64(1), object(1)\n",
      "memory usage: 170.0+ KB\n"
     ]
    }
   ],
   "source": [
    "sal_data.info()"
   ]
  },
  {
   "cell_type": "code",
   "execution_count": 7,
   "metadata": {},
   "outputs": [],
   "source": [
    "def get_pdp(URL):\n",
    "    try:\n",
    "        if any(x in URL for x in ['google','wikipedia','bing','youtube','facebook','twitter','yahoo']):\n",
    "            class_pdp = \"search_page\"\n",
    "        elif len(URL) < 50:\n",
    "            class_pdp = \"skipped\"\n",
    "        else:\n",
    "            HEADERS = ({'User-Agent':'Mozilla/5.0 (X11; Linux x86_64)AppleWebKit/537.36 (KHTML, like Gecko)Chrome/44.0.2403.157 Safari/537.36','Accept-Language': 'en-US, en;q=0.5'})\n",
    "            webpage = requests.get(URL, headers=HEADERS, timeout=20)\n",
    "            soup = BeautifulSoup(webpage.content, \"html5lib\")\n",
    "            text = soup.find_all(text=True)\n",
    "            new = []\n",
    "            for i in text:\n",
    "                new.append(i.lower())\n",
    "            pdp = [i for i in new if \"add to cart\" in i]\n",
    "            if len(pdp) == 0 or len(pdp)> 10:\n",
    "                class_pdp = \"NO\"\n",
    "            else:\n",
    "                class_pdp = \"YES\"\n",
    "    except:\n",
    "        class_pdp = \"timeout\"\n",
    "\n",
    "    return class_pdp\n"
   ]
  },
  {
   "cell_type": "code",
   "execution_count": 8,
   "metadata": {},
   "outputs": [],
   "source": [
    "for i in sal_data.url:\n",
    "    class_pdp = get_pdp(i)\n",
    "    f = open('class_pdp.txt', 'a+')\n",
    "    f.write(class_pdp+\"\\n\")\n",
    "    f.close()"
   ]
  },
  {
   "cell_type": "code",
   "execution_count": 17,
   "metadata": {},
   "outputs": [],
   "source": [
    "f2 = open(\"class_pdp.txt\", \"r\")\n",
    "pdp_tag = f2.readlines()\n",
    "\n",
    "pdp=[]\n",
    "for i in pdp_tag:\n",
    "    pdp.append(i[:-1])"
   ]
  },
  {
   "cell_type": "code",
   "execution_count": null,
   "metadata": {},
   "outputs": [],
   "source": []
  },
  {
   "cell_type": "code",
   "execution_count": 29,
   "metadata": {},
   "outputs": [],
   "source": [
    "pdp_df = pd.DataFrame(pdp, columns=['pdp'])\n",
    "# add and index column starting from 10871\n",
    "pdp_df['index'] = sal_data['index']\n",
    "len_pfp = len(pdp_df)"
   ]
  },
  {
   "cell_type": "code",
   "execution_count": 30,
   "metadata": {},
   "outputs": [
    {
     "data": {
      "text/plain": [
       "4184"
      ]
     },
     "execution_count": 30,
     "metadata": {},
     "output_type": "execute_result"
    }
   ],
   "source": [
    "len_pfp"
   ]
  },
  {
   "cell_type": "code",
   "execution_count": 31,
   "metadata": {},
   "outputs": [
    {
     "data": {
      "text/html": [
       "<div>\n",
       "<style scoped>\n",
       "    .dataframe tbody tr th:only-of-type {\n",
       "        vertical-align: middle;\n",
       "    }\n",
       "\n",
       "    .dataframe tbody tr th {\n",
       "        vertical-align: top;\n",
       "    }\n",
       "\n",
       "    .dataframe thead th {\n",
       "        text-align: right;\n",
       "    }\n",
       "</style>\n",
       "<table border=\"1\" class=\"dataframe\">\n",
       "  <thead>\n",
       "    <tr style=\"text-align: right;\">\n",
       "      <th></th>\n",
       "      <th>pdp</th>\n",
       "      <th>index</th>\n",
       "    </tr>\n",
       "  </thead>\n",
       "  <tbody>\n",
       "    <tr>\n",
       "      <th>0</th>\n",
       "      <td>search_page</td>\n",
       "      <td>10871</td>\n",
       "    </tr>\n",
       "    <tr>\n",
       "      <th>1</th>\n",
       "      <td>search_page</td>\n",
       "      <td>10872</td>\n",
       "    </tr>\n",
       "    <tr>\n",
       "      <th>2</th>\n",
       "      <td>search_page</td>\n",
       "      <td>10873</td>\n",
       "    </tr>\n",
       "    <tr>\n",
       "      <th>3</th>\n",
       "      <td>search_page</td>\n",
       "      <td>10874</td>\n",
       "    </tr>\n",
       "    <tr>\n",
       "      <th>4</th>\n",
       "      <td>search_page</td>\n",
       "      <td>10875</td>\n",
       "    </tr>\n",
       "    <tr>\n",
       "      <th>...</th>\n",
       "      <td>...</td>\n",
       "      <td>...</td>\n",
       "    </tr>\n",
       "    <tr>\n",
       "      <th>4179</th>\n",
       "      <td>NO</td>\n",
       "      <td>15050</td>\n",
       "    </tr>\n",
       "    <tr>\n",
       "      <th>4180</th>\n",
       "      <td>NO</td>\n",
       "      <td>15051</td>\n",
       "    </tr>\n",
       "    <tr>\n",
       "      <th>4181</th>\n",
       "      <td>search_page</td>\n",
       "      <td>15052</td>\n",
       "    </tr>\n",
       "    <tr>\n",
       "      <th>4182</th>\n",
       "      <td>search_page</td>\n",
       "      <td>15053</td>\n",
       "    </tr>\n",
       "    <tr>\n",
       "      <th>4183</th>\n",
       "      <td>timeout</td>\n",
       "      <td>15054</td>\n",
       "    </tr>\n",
       "  </tbody>\n",
       "</table>\n",
       "<p>4184 rows × 2 columns</p>\n",
       "</div>"
      ],
      "text/plain": [
       "              pdp  index\n",
       "0     search_page  10871\n",
       "1     search_page  10872\n",
       "2     search_page  10873\n",
       "3     search_page  10874\n",
       "4     search_page  10875\n",
       "...           ...    ...\n",
       "4179           NO  15050\n",
       "4180           NO  15051\n",
       "4181  search_page  15052\n",
       "4182  search_page  15053\n",
       "4183      timeout  15054\n",
       "\n",
       "[4184 rows x 2 columns]"
      ]
     },
     "execution_count": 31,
     "metadata": {},
     "output_type": "execute_result"
    }
   ],
   "source": [
    "pdp_df"
   ]
  },
  {
   "cell_type": "code",
   "execution_count": 32,
   "metadata": {},
   "outputs": [],
   "source": [
    "merged_df = pd.merge(sal_data, pdp_df, on='index')"
   ]
  },
  {
   "cell_type": "code",
   "execution_count": 33,
   "metadata": {},
   "outputs": [
    {
     "data": {
      "text/html": [
       "<div>\n",
       "<style scoped>\n",
       "    .dataframe tbody tr th:only-of-type {\n",
       "        vertical-align: middle;\n",
       "    }\n",
       "\n",
       "    .dataframe tbody tr th {\n",
       "        vertical-align: top;\n",
       "    }\n",
       "\n",
       "    .dataframe thead th {\n",
       "        text-align: right;\n",
       "    }\n",
       "</style>\n",
       "<table border=\"1\" class=\"dataframe\">\n",
       "  <thead>\n",
       "    <tr style=\"text-align: right;\">\n",
       "      <th></th>\n",
       "      <th>index</th>\n",
       "      <th>url</th>\n",
       "      <th>pdp</th>\n",
       "    </tr>\n",
       "  </thead>\n",
       "  <tbody>\n",
       "    <tr>\n",
       "      <th>0</th>\n",
       "      <td>10871</td>\n",
       "      <td>https://www.google.com/aclk?adurl=&amp;ai=DChcSEwj...</td>\n",
       "      <td>search_page</td>\n",
       "    </tr>\n",
       "    <tr>\n",
       "      <th>1</th>\n",
       "      <td>10872</td>\n",
       "      <td>https://www.google.com/shopping/product/166466...</td>\n",
       "      <td>search_page</td>\n",
       "    </tr>\n",
       "    <tr>\n",
       "      <th>2</th>\n",
       "      <td>10873</td>\n",
       "      <td>https://www.google.com/shopping/product/777811...</td>\n",
       "      <td>search_page</td>\n",
       "    </tr>\n",
       "    <tr>\n",
       "      <th>3</th>\n",
       "      <td>10874</td>\n",
       "      <td>https://www.google.com/aclk?adurl=&amp;ai=DChcSEwi...</td>\n",
       "      <td>search_page</td>\n",
       "    </tr>\n",
       "    <tr>\n",
       "      <th>4</th>\n",
       "      <td>10875</td>\n",
       "      <td>https://www.google.com/shopping/product/777811...</td>\n",
       "      <td>search_page</td>\n",
       "    </tr>\n",
       "    <tr>\n",
       "      <th>...</th>\n",
       "      <td>...</td>\n",
       "      <td>...</td>\n",
       "      <td>...</td>\n",
       "    </tr>\n",
       "    <tr>\n",
       "      <th>4179</th>\n",
       "      <td>15050</td>\n",
       "      <td>https://biccamera.rakuten.co.jp/item/871010384...</td>\n",
       "      <td>NO</td>\n",
       "    </tr>\n",
       "    <tr>\n",
       "      <th>4180</th>\n",
       "      <td>15051</td>\n",
       "      <td>https://review.rakuten.co.jp/item/1/269553_125...</td>\n",
       "      <td>NO</td>\n",
       "    </tr>\n",
       "    <tr>\n",
       "      <th>4181</th>\n",
       "      <td>15052</td>\n",
       "      <td>https://www.google.com/search?aqs=chrome..69i5...</td>\n",
       "      <td>search_page</td>\n",
       "    </tr>\n",
       "    <tr>\n",
       "      <th>4182</th>\n",
       "      <td>15053</td>\n",
       "      <td>https://www.youtube.com/watch?v=ZGD6t2929-k</td>\n",
       "      <td>search_page</td>\n",
       "    </tr>\n",
       "    <tr>\n",
       "      <th>4183</th>\n",
       "      <td>15054</td>\n",
       "      <td>https://product.rakuten.co.jp/product/-/0c2e39...</td>\n",
       "      <td>timeout</td>\n",
       "    </tr>\n",
       "  </tbody>\n",
       "</table>\n",
       "<p>4184 rows × 3 columns</p>\n",
       "</div>"
      ],
      "text/plain": [
       "      index                                                url          pdp\n",
       "0     10871  https://www.google.com/aclk?adurl=&ai=DChcSEwj...  search_page\n",
       "1     10872  https://www.google.com/shopping/product/166466...  search_page\n",
       "2     10873  https://www.google.com/shopping/product/777811...  search_page\n",
       "3     10874  https://www.google.com/aclk?adurl=&ai=DChcSEwi...  search_page\n",
       "4     10875  https://www.google.com/shopping/product/777811...  search_page\n",
       "...     ...                                                ...          ...\n",
       "4179  15050  https://biccamera.rakuten.co.jp/item/871010384...           NO\n",
       "4180  15051  https://review.rakuten.co.jp/item/1/269553_125...           NO\n",
       "4181  15052  https://www.google.com/search?aqs=chrome..69i5...  search_page\n",
       "4182  15053        https://www.youtube.com/watch?v=ZGD6t2929-k  search_page\n",
       "4183  15054  https://product.rakuten.co.jp/product/-/0c2e39...      timeout\n",
       "\n",
       "[4184 rows x 3 columns]"
      ]
     },
     "execution_count": 33,
     "metadata": {},
     "output_type": "execute_result"
    }
   ],
   "source": [
    "merged_df"
   ]
  },
  {
   "cell_type": "code",
   "execution_count": 39,
   "metadata": {},
   "outputs": [],
   "source": [
    "df = pd.read_csv('ClickStream+PurchasesCombined_FINAL_15Feb (1).csv')\n",
    "# Creat a new column for index\n",
    "df['index'] = df.index"
   ]
  },
  {
   "cell_type": "code",
   "execution_count": 40,
   "metadata": {},
   "outputs": [
    {
     "data": {
      "text/plain": [
       "Index(['Name', 'Total time spent on user test', 'Average time taken on tasks',\n",
       "       'Average page views per task', 'User agent', 'Custom ID',\n",
       "       'Date completed user test', 'Item', 'Task/Question', 'Page views',\n",
       "       'Path Analysis', 'Navigation', 'Time spent', 'Task result', 'domain',\n",
       "       'UUID', 'surveyID', 'TouchPoint', 'Sequence', 'Reverse Sequence',\n",
       "       'Sponsored', 'Sponsored link', 'Domain_Type', 'DTC_Page',\n",
       "       'Domain_Type2', 'SearchType', 'SearchType2', 'Gender', 'Country',\n",
       "       'Survey', 'FullName', 'JourneyStage', 'ProdName', 'ratings', 'OID',\n",
       "       'resid', 'User Id', 'searchTerm', 'PDP Flag', 'Prev_PDP', 'Prev_Brand',\n",
       "       'Brand', 'URL_Cat', 'index'],\n",
       "      dtype='object')"
      ]
     },
     "execution_count": 40,
     "metadata": {},
     "output_type": "execute_result"
    }
   ],
   "source": [
    "df.columns"
   ]
  },
  {
   "cell_type": "code",
   "execution_count": 43,
   "metadata": {},
   "outputs": [],
   "source": [
    "df = df[['Path Analysis','index','UUID',  'PDP Flag', 'URL_Cat']]"
   ]
  },
  {
   "cell_type": "code",
   "execution_count": 45,
   "metadata": {},
   "outputs": [],
   "source": [
    "df_ckeck = pd.merge(df, merged_df, on='index')"
   ]
  },
  {
   "cell_type": "code",
   "execution_count": 47,
   "metadata": {},
   "outputs": [],
   "source": [
    "df_ckeck.to_csv('df_ckeck.csv')"
   ]
  }
 ],
 "metadata": {
  "kernelspec": {
   "display_name": "Python 3.7.9 ('pdp': venv)",
   "language": "python",
   "name": "python3"
  },
  "language_info": {
   "codemirror_mode": {
    "name": "ipython",
    "version": 3
   },
   "file_extension": ".py",
   "mimetype": "text/x-python",
   "name": "python",
   "nbconvert_exporter": "python",
   "pygments_lexer": "ipython3",
   "version": "3.7.9"
  },
  "orig_nbformat": 4,
  "vscode": {
   "interpreter": {
    "hash": "c592ff39e7c8a210fd1ec6441acf209bb1db136807d542d2312ed7e24ac4b690"
   }
  }
 },
 "nbformat": 4,
 "nbformat_minor": 2
}
